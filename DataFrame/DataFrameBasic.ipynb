{
  "nbformat": 4,
  "nbformat_minor": 0,
  "metadata": {
    "colab": {
      "name": "DataFrameBasic.ipynb",
      "provenance": [],
      "authorship_tag": "ABX9TyO4w+WtzeVQAGNP4QaoX5aA",
      "include_colab_link": true
    },
    "kernelspec": {
      "name": "python3",
      "display_name": "Python 3"
    }
  },
  "cells": [
    {
      "cell_type": "markdown",
      "metadata": {
        "id": "view-in-github",
        "colab_type": "text"
      },
      "source": [
        "<a href=\"https://colab.research.google.com/github/Raian-Rahman/Competitive-Programming-templates/blob/master/DataFrame/DataFrameBasic.ipynb\" target=\"_parent\"><img src=\"https://colab.research.google.com/assets/colab-badge.svg\" alt=\"Open In Colab\"/></a>"
      ]
    },
    {
      "cell_type": "markdown",
      "metadata": {
        "id": "SeKmWBir6tXh",
        "colab_type": "text"
      },
      "source": [
        "The DataFrame data structure is the heart of the Panda's library. It's a primary object that you'll be working with in data analysis and cleaning tasks."
      ]
    },
    {
      "cell_type": "markdown",
      "metadata": {
        "id": "bQ5d1H5P60Kc",
        "colab_type": "text"
      },
      "source": [
        "#The DataFrame is conceptually a two-dimensional series object\n",
        " where there's an **index and multiple columns of content**, with *each column having a label*. In fact, the distinction between a column and a row is really only a conceptual distinction. And you can think of the DataFrame itself as simply a two-axes labeled array."
      ]
    },
    {
      "cell_type": "code",
      "metadata": {
        "id": "y1hN2ORE6C2i",
        "colab_type": "code",
        "colab": {}
      },
      "source": [
        "#lets create a dataframe \n",
        "#a datafrane can be thought as list of series where each series indicates a row\n",
        "import pandas as pd\n",
        "\n",
        "Team1 = pd.Series({\n",
        "        'captain' : 'Shakib',\n",
        "        'Vice Captain' : 'Tamim'\n",
        "    }\n",
        ")\n",
        "\n",
        "Team2 = pd.Series(\n",
        "    {\n",
        "        'captain' : 'MS Dhoni',\n",
        "        'Vice Captain' : 'Virat'\n",
        "    }\n",
        ")\n",
        "\n",
        "Team3 = pd.Series(\n",
        "    {\n",
        "        'captain' : 'Warner',\n",
        "        'Vice Captain' : 'Smith'\n",
        "    }\n",
        ")\n",
        "\n",
        "df = pd.DataFrame([Team1,Team2,Team3],index = ['Bangladesh','India','Australia'])\n",
        "print(df)"
      ],
      "execution_count": 0,
      "outputs": []
    },
    {
      "cell_type": "code",
      "metadata": {
        "id": "DMMHh5QaCFFk",
        "colab_type": "code",
        "colab": {
          "base_uri": "https://localhost:8080/",
          "height": 34
        },
        "outputId": "0c5ecef7-34ee-4b67-8756-20ffe71d447a"
      },
      "source": [
        "df.loc['Bangladesh']['captain']"
      ],
      "execution_count": 7,
      "outputs": [
        {
          "output_type": "execute_result",
          "data": {
            "text/plain": [
              "'Shakib'"
            ]
          },
          "metadata": {
            "tags": []
          },
          "execution_count": 7
        }
      ]
    },
    {
      "cell_type": "code",
      "metadata": {
        "id": "JZmJTa-nCdzZ",
        "colab_type": "code",
        "colab": {
          "base_uri": "https://localhost:8080/",
          "height": 34
        },
        "outputId": "d6b96c98-ba09-43a1-d64e-c783cd414d6c"
      },
      "source": [
        "df.iloc[0]['Vice Captain']"
      ],
      "execution_count": 8,
      "outputs": [
        {
          "output_type": "execute_result",
          "data": {
            "text/plain": [
              "'Tamim'"
            ]
          },
          "metadata": {
            "tags": []
          },
          "execution_count": 8
        }
      ]
    },
    {
      "cell_type": "markdown",
      "metadata": {
        "id": "OWKKrKFYD-8f",
        "colab_type": "text"
      },
      "source": [
        "Now if we had multiple row as **Bangladesh** index then the loc attribute would return all the rows with index named '**Bangladesh**'\n"
      ]
    },
    {
      "cell_type": "code",
      "metadata": {
        "id": "46IVzxSXCoR8",
        "colab_type": "code",
        "colab": {}
      },
      "source": [
        "df1 = pd.DataFrame([Team3],index = ['Australia'])\n",
        "df1 = df.append(df1\n",
        ")"
      ],
      "execution_count": 0,
      "outputs": []
    },
    {
      "cell_type": "code",
      "metadata": {
        "id": "Cx0SeFd9EYtN",
        "colab_type": "code",
        "colab": {
          "base_uri": "https://localhost:8080/",
          "height": 102
        },
        "outputId": "c5b3736b-dec6-4dd9-b843-60253297fdfb"
      },
      "source": [
        "print(df1)"
      ],
      "execution_count": 14,
      "outputs": [
        {
          "output_type": "stream",
          "text": [
            "             captain Vice Captain\n",
            "Bangladesh    Shakib        Tamim\n",
            "India       MS Dhoni        Virat\n",
            "Australia     Warner        Smith\n",
            "Australia     Warner        Smith\n"
          ],
          "name": "stdout"
        }
      ]
    },
    {
      "cell_type": "code",
      "metadata": {
        "id": "g_LoMAzzEiTv",
        "colab_type": "code",
        "colab": {
          "base_uri": "https://localhost:8080/",
          "height": 68
        },
        "outputId": "5db6486c-3353-403d-c468-541df989b050"
      },
      "source": [
        "df1.loc['Australia','captain']"
      ],
      "execution_count": 17,
      "outputs": [
        {
          "output_type": "execute_result",
          "data": {
            "text/plain": [
              "Australia    Warner\n",
              "Australia    Warner\n",
              "Name: captain, dtype: object"
            ]
          },
          "metadata": {
            "tags": []
          },
          "execution_count": 17
        }
      ]
    },
    {
      "cell_type": "markdown",
      "metadata": {
        "id": "cNwNLMNnE-iX",
        "colab_type": "text"
      },
      "source": [
        "Here we can see multiple rows return for **Australia**"
      ]
    },
    {
      "cell_type": "markdown",
      "metadata": {
        "id": "7hRpGCI-FaDH",
        "colab_type": "text"
      },
      "source": [
        "#Select Column for loc attribute"
      ]
    },
    {
      "cell_type": "markdown",
      "metadata": {
        "id": "Z6GvfCvhFkhJ",
        "colab_type": "text"
      },
      "source": [
        "The standart code is df.loc['index',col]\n"
      ]
    },
    {
      "cell_type": "code",
      "metadata": {
        "id": "8twncjrpE37a",
        "colab_type": "code",
        "colab": {
          "base_uri": "https://localhost:8080/",
          "height": 34
        },
        "outputId": "5370b3ca-9ca3-4a2f-a099-f33594c9f91f"
      },
      "source": [
        "df.loc['Bangladesh','Vice Captain']\n",
        "df.loc['Bangladesh','captain']\n"
      ],
      "execution_count": 20,
      "outputs": [
        {
          "output_type": "execute_result",
          "data": {
            "text/plain": [
              "'Shakib'"
            ]
          },
          "metadata": {
            "tags": []
          },
          "execution_count": 20
        }
      ]
    },
    {
      "cell_type": "markdown",
      "metadata": {
        "id": "UsGHfvxfF76O",
        "colab_type": "text"
      },
      "source": [
        "### Another way is to use the transpose attribute. "
      ]
    },
    {
      "cell_type": "code",
      "metadata": {
        "id": "Q07L5hvEFuu-",
        "colab_type": "code",
        "colab": {
          "base_uri": "https://localhost:8080/",
          "height": 34
        },
        "outputId": "739830a0-5eb1-47ea-b73f-98becfa147a2"
      },
      "source": [
        "df.T.loc['captain']['Bangladesh']"
      ],
      "execution_count": 24,
      "outputs": [
        {
          "output_type": "execute_result",
          "data": {
            "text/plain": [
              "'Shakib'"
            ]
          },
          "metadata": {
            "tags": []
          },
          "execution_count": 24
        }
      ]
    },
    {
      "cell_type": "code",
      "metadata": {
        "id": "UzZ9v2vWGEgd",
        "colab_type": "code",
        "colab": {
          "base_uri": "https://localhost:8080/",
          "height": 34
        },
        "outputId": "253b7055-4025-419c-95f4-e657753d914e"
      },
      "source": [
        "df.T.loc['Vice Captain']['Bangladesh']"
      ],
      "execution_count": 27,
      "outputs": [
        {
          "output_type": "execute_result",
          "data": {
            "text/plain": [
              "'Tamim'"
            ]
          },
          "metadata": {
            "tags": []
          },
          "execution_count": 27
        }
      ]
    },
    {
      "cell_type": "markdown",
      "metadata": {
        "id": "rYbt6aSyGpR2",
        "colab_type": "text"
      },
      "source": [
        "#For Selecting Multiple Columns\n",
        "\n",
        "it will take the index as the first parameter and the list of column name as the second parameter\n"
      ]
    },
    {
      "cell_type": "code",
      "metadata": {
        "id": "WlbFxPYeGWAb",
        "colab_type": "code",
        "colab": {
          "base_uri": "https://localhost:8080/",
          "height": 68
        },
        "outputId": "709d94db-2081-40a9-d49d-960153471113"
      },
      "source": [
        "df.loc['Bangladesh',['captain','Vice Captain']]"
      ],
      "execution_count": 28,
      "outputs": [
        {
          "output_type": "execute_result",
          "data": {
            "text/plain": [
              "captain         Shakib\n",
              "Vice Captain     Tamim\n",
              "Name: Bangladesh, dtype: object"
            ]
          },
          "metadata": {
            "tags": []
          },
          "execution_count": 28
        }
      ]
    },
    {
      "cell_type": "code",
      "metadata": {
        "id": "82Gv72TtGv2z",
        "colab_type": "code",
        "colab": {
          "base_uri": "https://localhost:8080/",
          "height": 142
        },
        "outputId": "09f66c22-8771-4eca-e738-c0b23cf5d606"
      },
      "source": [
        "df.loc[:,['captain','Vice Captain']]"
      ],
      "execution_count": 29,
      "outputs": [
        {
          "output_type": "execute_result",
          "data": {
            "text/html": [
              "<div>\n",
              "<style scoped>\n",
              "    .dataframe tbody tr th:only-of-type {\n",
              "        vertical-align: middle;\n",
              "    }\n",
              "\n",
              "    .dataframe tbody tr th {\n",
              "        vertical-align: top;\n",
              "    }\n",
              "\n",
              "    .dataframe thead th {\n",
              "        text-align: right;\n",
              "    }\n",
              "</style>\n",
              "<table border=\"1\" class=\"dataframe\">\n",
              "  <thead>\n",
              "    <tr style=\"text-align: right;\">\n",
              "      <th></th>\n",
              "      <th>captain</th>\n",
              "      <th>Vice Captain</th>\n",
              "    </tr>\n",
              "  </thead>\n",
              "  <tbody>\n",
              "    <tr>\n",
              "      <th>Bangladesh</th>\n",
              "      <td>Shakib</td>\n",
              "      <td>Tamim</td>\n",
              "    </tr>\n",
              "    <tr>\n",
              "      <th>India</th>\n",
              "      <td>MS Dhoni</td>\n",
              "      <td>Virat</td>\n",
              "    </tr>\n",
              "    <tr>\n",
              "      <th>Australia</th>\n",
              "      <td>Warner</td>\n",
              "      <td>Smith</td>\n",
              "    </tr>\n",
              "  </tbody>\n",
              "</table>\n",
              "</div>"
            ],
            "text/plain": [
              "             captain Vice Captain\n",
              "Bangladesh    Shakib        Tamim\n",
              "India       MS Dhoni        Virat\n",
              "Australia     Warner        Smith"
            ]
          },
          "metadata": {
            "tags": []
          },
          "execution_count": 29
        }
      ]
    },
    {
      "cell_type": "markdown",
      "metadata": {
        "id": "NOjd2y9jHISH",
        "colab_type": "text"
      },
      "source": [
        "#Dropping Data in DataFrame\n",
        "\n",
        "It's easy to delete data in series and DataFrames, and we can use the ***drop function*** to do so. This function takes a single parameter, ***which is the index or roll label, to drop***. This is another tricky place for new users to pad this. \n",
        "\n",
        "```\n",
        "df.drop('Bangladesh')\n",
        "```\n",
        "\n",
        "The drop function doesn't **change the DataFrame by default.** And instead, returns to you a copy of the DataFrame with the given rows removed. We can see that our original DataFrame is still intact. Let's make a copy with the copy method and do a drop on it instead."
      ]
    },
    {
      "cell_type": "code",
      "metadata": {
        "id": "JbEnW3pfG8eQ",
        "colab_type": "code",
        "colab": {
          "base_uri": "https://localhost:8080/",
          "height": 68
        },
        "outputId": "907734b3-0e35-4fc2-cbfa-430421a6fc6f"
      },
      "source": [
        "df1 = df.copy()\n",
        "df1 = df1.drop('Australia')\n",
        "print(df1)\n"
      ],
      "execution_count": 38,
      "outputs": [
        {
          "output_type": "stream",
          "text": [
            "             captain Vice Captain\n",
            "Bangladesh    Shakib        Tamim\n",
            "India       MS Dhoni        Virat\n"
          ],
          "name": "stdout"
        }
      ]
    },
    {
      "cell_type": "code",
      "metadata": {
        "id": "oImIQ6S7HzYW",
        "colab_type": "code",
        "colab": {
          "base_uri": "https://localhost:8080/",
          "height": 51
        },
        "outputId": "efcbdcff-d5ba-43e8-f1b5-b6c82f4b4dc9"
      },
      "source": [
        "df1 = df\n",
        "df1 = df1.T.drop('captain')\n",
        "print(df1)"
      ],
      "execution_count": 39,
      "outputs": [
        {
          "output_type": "stream",
          "text": [
            "             Bangladesh  India Australia\n",
            "Vice Captain      Tamim  Virat     Smith\n"
          ],
          "name": "stdout"
        }
      ]
    },
    {
      "cell_type": "code",
      "metadata": {
        "id": "ExSXV0oIH9pX",
        "colab_type": "code",
        "colab": {
          "base_uri": "https://localhost:8080/",
          "height": 85
        },
        "outputId": "4dc0602c-1e2e-4bc6-b733-7cc15a73b3b2"
      },
      "source": [
        "print(df)"
      ],
      "execution_count": 40,
      "outputs": [
        {
          "output_type": "stream",
          "text": [
            "             captain Vice Captain\n",
            "Bangladesh    Shakib        Tamim\n",
            "India       MS Dhoni        Virat\n",
            "Australia     Warner        Smith\n"
          ],
          "name": "stdout"
        }
      ]
    },
    {
      "cell_type": "markdown",
      "metadata": {
        "id": "MiYFJpCcIWTe",
        "colab_type": "text"
      },
      "source": [
        "#Drop has two interesting optional parameters. \n",
        "* The first is called ***in place***, and if it's set to \n",
        "true, the DataFrame will be updated in place, instead of a copy being returned. \n",
        "* The second parameter is ***the axes***, which should be dropped. By default, this value is 0, indicating the row axes. But you could change it to 1 if you want to drop a column.  **THUS YOU WONT NEED TO TRANSPOSE**"
      ]
    },
    {
      "cell_type": "code",
      "metadata": {
        "id": "O-wChC31IMgf",
        "colab_type": "code",
        "colab": {}
      },
      "source": [
        "df.drop('captain',inplace = True, axis = 1)"
      ],
      "execution_count": 0,
      "outputs": []
    },
    {
      "cell_type": "code",
      "metadata": {
        "id": "P4lnTjcfI7XF",
        "colab_type": "code",
        "colab": {
          "base_uri": "https://localhost:8080/",
          "height": 142
        },
        "outputId": "c59c9d65-271b-4c64-87a8-8da0d65181e5"
      },
      "source": [
        "df"
      ],
      "execution_count": 42,
      "outputs": [
        {
          "output_type": "execute_result",
          "data": {
            "text/html": [
              "<div>\n",
              "<style scoped>\n",
              "    .dataframe tbody tr th:only-of-type {\n",
              "        vertical-align: middle;\n",
              "    }\n",
              "\n",
              "    .dataframe tbody tr th {\n",
              "        vertical-align: top;\n",
              "    }\n",
              "\n",
              "    .dataframe thead th {\n",
              "        text-align: right;\n",
              "    }\n",
              "</style>\n",
              "<table border=\"1\" class=\"dataframe\">\n",
              "  <thead>\n",
              "    <tr style=\"text-align: right;\">\n",
              "      <th></th>\n",
              "      <th>Vice Captain</th>\n",
              "    </tr>\n",
              "  </thead>\n",
              "  <tbody>\n",
              "    <tr>\n",
              "      <th>Bangladesh</th>\n",
              "      <td>Tamim</td>\n",
              "    </tr>\n",
              "    <tr>\n",
              "      <th>India</th>\n",
              "      <td>Virat</td>\n",
              "    </tr>\n",
              "    <tr>\n",
              "      <th>Australia</th>\n",
              "      <td>Smith</td>\n",
              "    </tr>\n",
              "  </tbody>\n",
              "</table>\n",
              "</div>"
            ],
            "text/plain": [
              "           Vice Captain\n",
              "Bangladesh        Tamim\n",
              "India             Virat\n",
              "Australia         Smith"
            ]
          },
          "metadata": {
            "tags": []
          },
          "execution_count": 42
        }
      ]
    },
    {
      "cell_type": "markdown",
      "metadata": {
        "id": "_NHGtH3fJGiP",
        "colab_type": "text"
      },
      "source": [
        "#Deleting Column using del operator\n",
        "\n"
      ]
    },
    {
      "cell_type": "code",
      "metadata": {
        "id": "xEEtcQLCI8Qn",
        "colab_type": "code",
        "colab": {}
      },
      "source": [
        "df = df1\n",
        "df = df.T\n",
        "\n",
        "del df['Vice Captain']"
      ],
      "execution_count": 0,
      "outputs": []
    },
    {
      "cell_type": "code",
      "metadata": {
        "id": "TwO59G9dJAhE",
        "colab_type": "code",
        "colab": {
          "base_uri": "https://localhost:8080/",
          "height": 125
        },
        "outputId": "deb6a2d4-b923-462a-a9f2-0a48c7fa9687"
      },
      "source": [
        "df"
      ],
      "execution_count": 49,
      "outputs": [
        {
          "output_type": "execute_result",
          "data": {
            "text/html": [
              "<div>\n",
              "<style scoped>\n",
              "    .dataframe tbody tr th:only-of-type {\n",
              "        vertical-align: middle;\n",
              "    }\n",
              "\n",
              "    .dataframe tbody tr th {\n",
              "        vertical-align: top;\n",
              "    }\n",
              "\n",
              "    .dataframe thead th {\n",
              "        text-align: right;\n",
              "    }\n",
              "</style>\n",
              "<table border=\"1\" class=\"dataframe\">\n",
              "  <thead>\n",
              "    <tr style=\"text-align: right;\">\n",
              "      <th></th>\n",
              "    </tr>\n",
              "  </thead>\n",
              "  <tbody>\n",
              "    <tr>\n",
              "      <th>Bangladesh</th>\n",
              "    </tr>\n",
              "    <tr>\n",
              "      <th>India</th>\n",
              "    </tr>\n",
              "    <tr>\n",
              "      <th>Australia</th>\n",
              "    </tr>\n",
              "  </tbody>\n",
              "</table>\n",
              "</div>"
            ],
            "text/plain": [
              "Empty DataFrame\n",
              "Columns: []\n",
              "Index: [Bangladesh, India, Australia]"
            ]
          },
          "metadata": {
            "tags": []
          },
          "execution_count": 49
        }
      ]
    },
    {
      "cell_type": "code",
      "metadata": {
        "id": "07wH8RUYJBRA",
        "colab_type": "code",
        "colab": {}
      },
      "source": [
        "df = df1"
      ],
      "execution_count": 0,
      "outputs": []
    },
    {
      "cell_type": "code",
      "metadata": {
        "id": "SUhRrsG9JDDI",
        "colab_type": "code",
        "colab": {
          "base_uri": "https://localhost:8080/",
          "height": 80
        },
        "outputId": "2061f2e7-a539-4aeb-c9c7-ed2bc33b77e1"
      },
      "source": [
        "df"
      ],
      "execution_count": 46,
      "outputs": [
        {
          "output_type": "execute_result",
          "data": {
            "text/html": [
              "<div>\n",
              "<style scoped>\n",
              "    .dataframe tbody tr th:only-of-type {\n",
              "        vertical-align: middle;\n",
              "    }\n",
              "\n",
              "    .dataframe tbody tr th {\n",
              "        vertical-align: top;\n",
              "    }\n",
              "\n",
              "    .dataframe thead th {\n",
              "        text-align: right;\n",
              "    }\n",
              "</style>\n",
              "<table border=\"1\" class=\"dataframe\">\n",
              "  <thead>\n",
              "    <tr style=\"text-align: right;\">\n",
              "      <th></th>\n",
              "      <th>Bangladesh</th>\n",
              "      <th>India</th>\n",
              "      <th>Australia</th>\n",
              "    </tr>\n",
              "  </thead>\n",
              "  <tbody>\n",
              "    <tr>\n",
              "      <th>Vice Captain</th>\n",
              "      <td>Tamim</td>\n",
              "      <td>Virat</td>\n",
              "      <td>Smith</td>\n",
              "    </tr>\n",
              "  </tbody>\n",
              "</table>\n",
              "</div>"
            ],
            "text/plain": [
              "             Bangladesh  India Australia\n",
              "Vice Captain      Tamim  Virat     Smith"
            ]
          },
          "metadata": {
            "tags": []
          },
          "execution_count": 46
        }
      ]
    },
    {
      "cell_type": "markdown",
      "metadata": {
        "id": "EZ3ZZyFnJYSF",
        "colab_type": "text"
      },
      "source": [
        "#Adding a new column to DataFrame\n",
        "\n",
        "just use the assignment operator after the square_bracket\n",
        "\n",
        "```\n",
        "df['Home'] = None\n",
        "```"
      ]
    },
    {
      "cell_type": "code",
      "metadata": {
        "id": "3oFaz0vXJEHZ",
        "colab_type": "code",
        "colab": {}
      },
      "source": [
        "df['Home']=None"
      ],
      "execution_count": 0,
      "outputs": []
    },
    {
      "cell_type": "code",
      "metadata": {
        "id": "FOmMrpXIJpT9",
        "colab_type": "code",
        "colab": {
          "base_uri": "https://localhost:8080/",
          "height": 142
        },
        "outputId": "57abef73-51ec-4ca5-9036-e9798a020c16"
      },
      "source": [
        "df"
      ],
      "execution_count": 51,
      "outputs": [
        {
          "output_type": "execute_result",
          "data": {
            "text/html": [
              "<div>\n",
              "<style scoped>\n",
              "    .dataframe tbody tr th:only-of-type {\n",
              "        vertical-align: middle;\n",
              "    }\n",
              "\n",
              "    .dataframe tbody tr th {\n",
              "        vertical-align: top;\n",
              "    }\n",
              "\n",
              "    .dataframe thead th {\n",
              "        text-align: right;\n",
              "    }\n",
              "</style>\n",
              "<table border=\"1\" class=\"dataframe\">\n",
              "  <thead>\n",
              "    <tr style=\"text-align: right;\">\n",
              "      <th></th>\n",
              "      <th>Home</th>\n",
              "    </tr>\n",
              "  </thead>\n",
              "  <tbody>\n",
              "    <tr>\n",
              "      <th>Bangladesh</th>\n",
              "      <td>None</td>\n",
              "    </tr>\n",
              "    <tr>\n",
              "      <th>India</th>\n",
              "      <td>None</td>\n",
              "    </tr>\n",
              "    <tr>\n",
              "      <th>Australia</th>\n",
              "      <td>None</td>\n",
              "    </tr>\n",
              "  </tbody>\n",
              "</table>\n",
              "</div>"
            ],
            "text/plain": [
              "            Home\n",
              "Bangladesh  None\n",
              "India       None\n",
              "Australia   None"
            ]
          },
          "metadata": {
            "tags": []
          },
          "execution_count": 51
        }
      ]
    },
    {
      "cell_type": "code",
      "metadata": {
        "id": "tLD_pELWJp9E",
        "colab_type": "code",
        "colab": {}
      },
      "source": [
        ""
      ],
      "execution_count": 0,
      "outputs": []
    }
  ]
}